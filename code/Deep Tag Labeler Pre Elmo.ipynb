{
 "cells": [
  {
   "cell_type": "code",
   "execution_count": 1,
   "metadata": {},
   "outputs": [],
   "source": [
    "import os\n",
    "import re\n",
    "\n",
    "import numpy as np\n",
    "import pandas as pd\n",
    "import tensorflow as tf\n",
    "import tensorflow_hub as hub\n",
    "from tqdm import tqdm_notebook\n",
    "from tensorflow.keras import backend as K"
   ]
  },
  {
   "cell_type": "code",
   "execution_count": 2,
   "metadata": {},
   "outputs": [
    {
     "name": "stdout",
     "output_type": "stream",
     "text": [
      "Original posts: 273,876\n"
     ]
    },
    {
     "data": {
      "text/html": [
       "<div>\n",
       "<style scoped>\n",
       "    .dataframe tbody tr th:only-of-type {\n",
       "        vertical-align: middle;\n",
       "    }\n",
       "\n",
       "    .dataframe tbody tr th {\n",
       "        vertical-align: top;\n",
       "    }\n",
       "\n",
       "    .dataframe thead th {\n",
       "        text-align: right;\n",
       "    }\n",
       "</style>\n",
       "<table border=\"1\" class=\"dataframe\">\n",
       "  <thead>\n",
       "    <tr style=\"text-align: right;\">\n",
       "      <th></th>\n",
       "      <th>Comments</th>\n",
       "      <th>_AcceptedAnswerId</th>\n",
       "      <th>_AnswerCount</th>\n",
       "      <th>_Body</th>\n",
       "      <th>_ClosedDate</th>\n",
       "      <th>_CommentCount</th>\n",
       "      <th>_CommunityOwnedDate</th>\n",
       "      <th>_CreationDate</th>\n",
       "      <th>_FavoriteCount</th>\n",
       "      <th>_Id</th>\n",
       "      <th>...</th>\n",
       "      <th>_Owner</th>\n",
       "      <th>_OwnerDisplayName</th>\n",
       "      <th>_OwnerUserId</th>\n",
       "      <th>_ParentId</th>\n",
       "      <th>_PostTypeId</th>\n",
       "      <th>_Score</th>\n",
       "      <th>_Tags</th>\n",
       "      <th>_Title</th>\n",
       "      <th>_ViewCount</th>\n",
       "      <th>_Votes</th>\n",
       "    </tr>\n",
       "  </thead>\n",
       "  <tbody>\n",
       "    <tr>\n",
       "      <th>0</th>\n",
       "      <td>[{'_CreationDate': '2013-02-20T21:15:11.130', ...</td>\n",
       "      <td>NaN</td>\n",
       "      <td>NaN</td>\n",
       "      <td>&lt;p&gt;What event do you want to use as trigger, t...</td>\n",
       "      <td>None</td>\n",
       "      <td>7</td>\n",
       "      <td>None</td>\n",
       "      <td>2013-02-20T21:15:11.130</td>\n",
       "      <td>NaN</td>\n",
       "      <td>14990058</td>\n",
       "      <td>...</td>\n",
       "      <td>{'_AboutMe': '&lt;ul&gt;\n",
       "&lt;li&gt;ASP.NET and Windows-Dev...</td>\n",
       "      <td>None</td>\n",
       "      <td>284240</td>\n",
       "      <td>14989981.0</td>\n",
       "      <td>2</td>\n",
       "      <td>2</td>\n",
       "      <td>None</td>\n",
       "      <td>None</td>\n",
       "      <td>NaN</td>\n",
       "      <td>[{'_BountyAmount': None, '_CreationDate': '201...</td>\n",
       "    </tr>\n",
       "    <tr>\n",
       "      <th>1</th>\n",
       "      <td>[{'_CreationDate': '2015-09-14T22:02:20.670', ...</td>\n",
       "      <td>NaN</td>\n",
       "      <td>NaN</td>\n",
       "      <td>&lt;p&gt;When the build/publish script ran, the wron...</td>\n",
       "      <td>None</td>\n",
       "      <td>0</td>\n",
       "      <td>None</td>\n",
       "      <td>2015-09-14T22:02:20.670</td>\n",
       "      <td>NaN</td>\n",
       "      <td>32574652</td>\n",
       "      <td>...</td>\n",
       "      <td>{'_AboutMe': '&lt;p&gt;Keith lives in SE Florida and...</td>\n",
       "      <td>None</td>\n",
       "      <td>86555</td>\n",
       "      <td>32569215.0</td>\n",
       "      <td>2</td>\n",
       "      <td>0</td>\n",
       "      <td>None</td>\n",
       "      <td>None</td>\n",
       "      <td>NaN</td>\n",
       "      <td>[{'_BountyAmount': None, '_CreationDate': '201...</td>\n",
       "    </tr>\n",
       "    <tr>\n",
       "      <th>2</th>\n",
       "      <td>[{'_CreationDate': '2012-06-12T14:02:37.243', ...</td>\n",
       "      <td>NaN</td>\n",
       "      <td>NaN</td>\n",
       "      <td>&lt;p&gt;In the interface add the method declaration...</td>\n",
       "      <td>None</td>\n",
       "      <td>3</td>\n",
       "      <td>None</td>\n",
       "      <td>2012-06-12T14:02:37.243</td>\n",
       "      <td>NaN</td>\n",
       "      <td>10998316</td>\n",
       "      <td>...</td>\n",
       "      <td>{'_AboutMe': '&lt;h1&gt;SOreadytohelp&lt;/h1&gt;\n",
       "', '_Acco...</td>\n",
       "      <td>None</td>\n",
       "      <td>693272</td>\n",
       "      <td>10998270.0</td>\n",
       "      <td>2</td>\n",
       "      <td>3</td>\n",
       "      <td>None</td>\n",
       "      <td>None</td>\n",
       "      <td>NaN</td>\n",
       "      <td>[{'_BountyAmount': None, '_CreationDate': '201...</td>\n",
       "    </tr>\n",
       "    <tr>\n",
       "      <th>3</th>\n",
       "      <td>[{'_CreationDate': '2014-07-30T13:14:15.723', ...</td>\n",
       "      <td>NaN</td>\n",
       "      <td>NaN</td>\n",
       "      <td>&lt;p&gt;Every answer so far is correct and points o...</td>\n",
       "      <td>None</td>\n",
       "      <td>0</td>\n",
       "      <td>None</td>\n",
       "      <td>2014-07-30T13:14:15.723</td>\n",
       "      <td>NaN</td>\n",
       "      <td>25037786</td>\n",
       "      <td>...</td>\n",
       "      <td>{'_AboutMe': '&lt;p&gt;Expertise with&lt;/p&gt;\n",
       "\n",
       "&lt;ul&gt;\n",
       "&lt;li&gt;...</td>\n",
       "      <td>None</td>\n",
       "      <td>1649198</td>\n",
       "      <td>25037558.0</td>\n",
       "      <td>2</td>\n",
       "      <td>0</td>\n",
       "      <td>None</td>\n",
       "      <td>None</td>\n",
       "      <td>NaN</td>\n",
       "      <td>None</td>\n",
       "    </tr>\n",
       "    <tr>\n",
       "      <th>4</th>\n",
       "      <td>[{'_CreationDate': '2009-08-19T20:18:55.647', ...</td>\n",
       "      <td>NaN</td>\n",
       "      <td>1.0</td>\n",
       "      <td>&lt;p&gt;This is what i have.&lt;/p&gt;\\n\\n&lt;pre&gt;&lt;code&gt;$num...</td>\n",
       "      <td>None</td>\n",
       "      <td>0</td>\n",
       "      <td>None</td>\n",
       "      <td>2009-08-19T20:18:55.647</td>\n",
       "      <td>NaN</td>\n",
       "      <td>1302404</td>\n",
       "      <td>...</td>\n",
       "      <td>None</td>\n",
       "      <td>None</td>\n",
       "      <td>115949</td>\n",
       "      <td>NaN</td>\n",
       "      <td>1</td>\n",
       "      <td>0</td>\n",
       "      <td>&lt;php&gt;</td>\n",
       "      <td>Break apart variable contents and load into ar...</td>\n",
       "      <td>337.0</td>\n",
       "      <td>None</td>\n",
       "    </tr>\n",
       "  </tbody>\n",
       "</table>\n",
       "<p>5 rows × 24 columns</p>\n",
       "</div>"
      ],
      "text/plain": [
       "                                            Comments  _AcceptedAnswerId  \\\n",
       "0  [{'_CreationDate': '2013-02-20T21:15:11.130', ...                NaN   \n",
       "1  [{'_CreationDate': '2015-09-14T22:02:20.670', ...                NaN   \n",
       "2  [{'_CreationDate': '2012-06-12T14:02:37.243', ...                NaN   \n",
       "3  [{'_CreationDate': '2014-07-30T13:14:15.723', ...                NaN   \n",
       "4  [{'_CreationDate': '2009-08-19T20:18:55.647', ...                NaN   \n",
       "\n",
       "   _AnswerCount                                              _Body  \\\n",
       "0           NaN  <p>What event do you want to use as trigger, t...   \n",
       "1           NaN  <p>When the build/publish script ran, the wron...   \n",
       "2           NaN  <p>In the interface add the method declaration...   \n",
       "3           NaN  <p>Every answer so far is correct and points o...   \n",
       "4           1.0  <p>This is what i have.</p>\\n\\n<pre><code>$num...   \n",
       "\n",
       "  _ClosedDate  _CommentCount _CommunityOwnedDate            _CreationDate  \\\n",
       "0        None              7                None  2013-02-20T21:15:11.130   \n",
       "1        None              0                None  2015-09-14T22:02:20.670   \n",
       "2        None              3                None  2012-06-12T14:02:37.243   \n",
       "3        None              0                None  2014-07-30T13:14:15.723   \n",
       "4        None              0                None  2009-08-19T20:18:55.647   \n",
       "\n",
       "   _FavoriteCount       _Id  ...  \\\n",
       "0             NaN  14990058  ...   \n",
       "1             NaN  32574652  ...   \n",
       "2             NaN  10998316  ...   \n",
       "3             NaN  25037786  ...   \n",
       "4             NaN   1302404  ...   \n",
       "\n",
       "                                              _Owner _OwnerDisplayName  \\\n",
       "0  {'_AboutMe': '<ul>\n",
       "<li>ASP.NET and Windows-Dev...              None   \n",
       "1  {'_AboutMe': '<p>Keith lives in SE Florida and...              None   \n",
       "2  {'_AboutMe': '<h1>SOreadytohelp</h1>\n",
       "', '_Acco...              None   \n",
       "3  {'_AboutMe': '<p>Expertise with</p>\n",
       "\n",
       "<ul>\n",
       "<li>...              None   \n",
       "4                                               None              None   \n",
       "\n",
       "  _OwnerUserId   _ParentId _PostTypeId _Score  _Tags  \\\n",
       "0       284240  14989981.0           2      2   None   \n",
       "1        86555  32569215.0           2      0   None   \n",
       "2       693272  10998270.0           2      3   None   \n",
       "3      1649198  25037558.0           2      0   None   \n",
       "4       115949         NaN           1      0  <php>   \n",
       "\n",
       "                                              _Title  _ViewCount  \\\n",
       "0                                               None         NaN   \n",
       "1                                               None         NaN   \n",
       "2                                               None         NaN   \n",
       "3                                               None         NaN   \n",
       "4  Break apart variable contents and load into ar...       337.0   \n",
       "\n",
       "                                              _Votes  \n",
       "0  [{'_BountyAmount': None, '_CreationDate': '201...  \n",
       "1  [{'_BountyAmount': None, '_CreationDate': '201...  \n",
       "2  [{'_BountyAmount': None, '_CreationDate': '201...  \n",
       "3                                               None  \n",
       "4                                               None  \n",
       "\n",
       "[5 rows x 24 columns]"
      ]
     },
     "execution_count": 2,
     "metadata": {},
     "output_type": "execute_result"
    }
   ],
   "source": [
    "posts_df = pd.read_json('data/stackoverflow/sample/CombinedDocs.100K.Questions.jsonl.gz', lines=True)\n",
    "print('Original posts: {:,}'.format(len(posts_df.index)))\n",
    "posts_df.head(5)"
   ]
  },
  {
   "cell_type": "code",
   "execution_count": 3,
   "metadata": {},
   "outputs": [
    {
     "name": "stdout",
     "output_type": "stream",
     "text": [
      "Posts w/ tags: 98,278\n"
     ]
    },
    {
     "data": {
      "text/html": [
       "<div>\n",
       "<style scoped>\n",
       "    .dataframe tbody tr th:only-of-type {\n",
       "        vertical-align: middle;\n",
       "    }\n",
       "\n",
       "    .dataframe tbody tr th {\n",
       "        vertical-align: top;\n",
       "    }\n",
       "\n",
       "    .dataframe thead th {\n",
       "        text-align: right;\n",
       "    }\n",
       "</style>\n",
       "<table border=\"1\" class=\"dataframe\">\n",
       "  <thead>\n",
       "    <tr style=\"text-align: right;\">\n",
       "      <th></th>\n",
       "      <th>Comments</th>\n",
       "      <th>_AcceptedAnswerId</th>\n",
       "      <th>_AnswerCount</th>\n",
       "      <th>_Body</th>\n",
       "      <th>_ClosedDate</th>\n",
       "      <th>_CommentCount</th>\n",
       "      <th>_CommunityOwnedDate</th>\n",
       "      <th>_CreationDate</th>\n",
       "      <th>_FavoriteCount</th>\n",
       "      <th>_Id</th>\n",
       "      <th>...</th>\n",
       "      <th>_Owner</th>\n",
       "      <th>_OwnerDisplayName</th>\n",
       "      <th>_OwnerUserId</th>\n",
       "      <th>_ParentId</th>\n",
       "      <th>_PostTypeId</th>\n",
       "      <th>_Score</th>\n",
       "      <th>_Tags</th>\n",
       "      <th>_Title</th>\n",
       "      <th>_ViewCount</th>\n",
       "      <th>_Votes</th>\n",
       "    </tr>\n",
       "  </thead>\n",
       "  <tbody>\n",
       "    <tr>\n",
       "      <th>4</th>\n",
       "      <td>[{'_CreationDate': '2009-08-19T20:18:55.647', ...</td>\n",
       "      <td>NaN</td>\n",
       "      <td>1.0</td>\n",
       "      <td>&lt;p&gt;This is what i have.&lt;/p&gt;\\n\\n&lt;pre&gt;&lt;code&gt;$num...</td>\n",
       "      <td>None</td>\n",
       "      <td>0</td>\n",
       "      <td>None</td>\n",
       "      <td>2009-08-19T20:18:55.647</td>\n",
       "      <td>NaN</td>\n",
       "      <td>1302404</td>\n",
       "      <td>...</td>\n",
       "      <td>None</td>\n",
       "      <td>None</td>\n",
       "      <td>115949</td>\n",
       "      <td>NaN</td>\n",
       "      <td>1</td>\n",
       "      <td>0</td>\n",
       "      <td>&lt;php&gt;</td>\n",
       "      <td>Break apart variable contents and load into ar...</td>\n",
       "      <td>337.0</td>\n",
       "      <td>None</td>\n",
       "    </tr>\n",
       "    <tr>\n",
       "      <th>6</th>\n",
       "      <td>[{'_CreationDate': '2015-02-02T23:17:47.047', ...</td>\n",
       "      <td>NaN</td>\n",
       "      <td>1.0</td>\n",
       "      <td>&lt;p&gt;Hi this script shows a Google's map in Palo...</td>\n",
       "      <td>None</td>\n",
       "      <td>8</td>\n",
       "      <td>None</td>\n",
       "      <td>2015-02-02T23:17:47.047</td>\n",
       "      <td>NaN</td>\n",
       "      <td>28288660</td>\n",
       "      <td>...</td>\n",
       "      <td>None</td>\n",
       "      <td>None</td>\n",
       "      <td>4472264</td>\n",
       "      <td>NaN</td>\n",
       "      <td>1</td>\n",
       "      <td>1</td>\n",
       "      <td>&lt;javascript&gt;&lt;wordpress&gt;&lt;google-maps&gt;&lt;google-ma...</td>\n",
       "      <td>Google Map API v3 not working in Wordpress</td>\n",
       "      <td>503.0</td>\n",
       "      <td>[{'_BountyAmount': None, '_CreationDate': '201...</td>\n",
       "    </tr>\n",
       "    <tr>\n",
       "      <th>8</th>\n",
       "      <td>[{'_CreationDate': '2019-01-23T15:37:18.230', ...</td>\n",
       "      <td>NaN</td>\n",
       "      <td>1.0</td>\n",
       "      <td>&lt;p&gt;I'm creating an app (personal project) that...</td>\n",
       "      <td>None</td>\n",
       "      <td>2</td>\n",
       "      <td>None</td>\n",
       "      <td>2019-01-23T15:37:18.230</td>\n",
       "      <td>NaN</td>\n",
       "      <td>54330748</td>\n",
       "      <td>...</td>\n",
       "      <td>None</td>\n",
       "      <td>None</td>\n",
       "      <td>2913976</td>\n",
       "      <td>NaN</td>\n",
       "      <td>1</td>\n",
       "      <td>1</td>\n",
       "      <td>&lt;ruby-on-rails&gt;&lt;ruby&gt;&lt;ruby-on-rails-4&gt;&lt;activer...</td>\n",
       "      <td>Trying to collect a list of ids from checkboxe...</td>\n",
       "      <td>37.0</td>\n",
       "      <td>[{'_BountyAmount': None, '_CreationDate': '201...</td>\n",
       "    </tr>\n",
       "    <tr>\n",
       "      <th>15</th>\n",
       "      <td>[{'_CreationDate': '2014-11-16T09:15:33.277', ...</td>\n",
       "      <td>26955818.0</td>\n",
       "      <td>2.0</td>\n",
       "      <td>&lt;p&gt;I want to change item color and it's parent...</td>\n",
       "      <td>None</td>\n",
       "      <td>0</td>\n",
       "      <td>None</td>\n",
       "      <td>2014-11-16T09:15:33.277</td>\n",
       "      <td>NaN</td>\n",
       "      <td>26955440</td>\n",
       "      <td>...</td>\n",
       "      <td>None</td>\n",
       "      <td>None</td>\n",
       "      <td>3839473</td>\n",
       "      <td>NaN</td>\n",
       "      <td>1</td>\n",
       "      <td>1</td>\n",
       "      <td>&lt;javascript&gt;&lt;jquery&gt;&lt;html&gt;&lt;css&gt;</td>\n",
       "      <td>change font color when clicking on menu with j...</td>\n",
       "      <td>872.0</td>\n",
       "      <td>[{'_BountyAmount': None, '_CreationDate': '201...</td>\n",
       "    </tr>\n",
       "    <tr>\n",
       "      <th>19</th>\n",
       "      <td>[{'_CreationDate': '2008-09-30T15:00:01.233', ...</td>\n",
       "      <td>155597.0</td>\n",
       "      <td>3.0</td>\n",
       "      <td>&lt;p&gt;I have a VB6 COM component which I need to ...</td>\n",
       "      <td>None</td>\n",
       "      <td>0</td>\n",
       "      <td>None</td>\n",
       "      <td>2008-09-30T15:00:01.233</td>\n",
       "      <td>NaN</td>\n",
       "      <td>153438</td>\n",
       "      <td>...</td>\n",
       "      <td>{'_AboutMe': '&lt;p&gt;&lt;a href=\"http://www.leapinggo...</td>\n",
       "      <td>Wolfwyrd</td>\n",
       "      <td>15570</td>\n",
       "      <td>NaN</td>\n",
       "      <td>1</td>\n",
       "      <td>0</td>\n",
       "      <td>&lt;c#&gt;&lt;.net&gt;&lt;com&gt;&lt;interop&gt;</td>\n",
       "      <td>Retrieving the original error number from a CO...</td>\n",
       "      <td>2120.0</td>\n",
       "      <td>None</td>\n",
       "    </tr>\n",
       "  </tbody>\n",
       "</table>\n",
       "<p>5 rows × 24 columns</p>\n",
       "</div>"
      ],
      "text/plain": [
       "                                             Comments  _AcceptedAnswerId  \\\n",
       "4   [{'_CreationDate': '2009-08-19T20:18:55.647', ...                NaN   \n",
       "6   [{'_CreationDate': '2015-02-02T23:17:47.047', ...                NaN   \n",
       "8   [{'_CreationDate': '2019-01-23T15:37:18.230', ...                NaN   \n",
       "15  [{'_CreationDate': '2014-11-16T09:15:33.277', ...         26955818.0   \n",
       "19  [{'_CreationDate': '2008-09-30T15:00:01.233', ...           155597.0   \n",
       "\n",
       "    _AnswerCount                                              _Body  \\\n",
       "4            1.0  <p>This is what i have.</p>\\n\\n<pre><code>$num...   \n",
       "6            1.0  <p>Hi this script shows a Google's map in Palo...   \n",
       "8            1.0  <p>I'm creating an app (personal project) that...   \n",
       "15           2.0  <p>I want to change item color and it's parent...   \n",
       "19           3.0  <p>I have a VB6 COM component which I need to ...   \n",
       "\n",
       "   _ClosedDate  _CommentCount _CommunityOwnedDate            _CreationDate  \\\n",
       "4         None              0                None  2009-08-19T20:18:55.647   \n",
       "6         None              8                None  2015-02-02T23:17:47.047   \n",
       "8         None              2                None  2019-01-23T15:37:18.230   \n",
       "15        None              0                None  2014-11-16T09:15:33.277   \n",
       "19        None              0                None  2008-09-30T15:00:01.233   \n",
       "\n",
       "    _FavoriteCount       _Id  ...  \\\n",
       "4              NaN   1302404  ...   \n",
       "6              NaN  28288660  ...   \n",
       "8              NaN  54330748  ...   \n",
       "15             NaN  26955440  ...   \n",
       "19             NaN    153438  ...   \n",
       "\n",
       "                                               _Owner _OwnerDisplayName  \\\n",
       "4                                                None              None   \n",
       "6                                                None              None   \n",
       "8                                                None              None   \n",
       "15                                               None              None   \n",
       "19  {'_AboutMe': '<p><a href=\"http://www.leapinggo...          Wolfwyrd   \n",
       "\n",
       "   _OwnerUserId  _ParentId _PostTypeId _Score  \\\n",
       "4        115949        NaN           1      0   \n",
       "6       4472264        NaN           1      1   \n",
       "8       2913976        NaN           1      1   \n",
       "15      3839473        NaN           1      1   \n",
       "19        15570        NaN           1      0   \n",
       "\n",
       "                                                _Tags  \\\n",
       "4                                               <php>   \n",
       "6   <javascript><wordpress><google-maps><google-ma...   \n",
       "8   <ruby-on-rails><ruby><ruby-on-rails-4><activer...   \n",
       "15                    <javascript><jquery><html><css>   \n",
       "19                           <c#><.net><com><interop>   \n",
       "\n",
       "                                               _Title  _ViewCount  \\\n",
       "4   Break apart variable contents and load into ar...       337.0   \n",
       "6          Google Map API v3 not working in Wordpress       503.0   \n",
       "8   Trying to collect a list of ids from checkboxe...        37.0   \n",
       "15  change font color when clicking on menu with j...       872.0   \n",
       "19  Retrieving the original error number from a CO...      2120.0   \n",
       "\n",
       "                                               _Votes  \n",
       "4                                                None  \n",
       "6   [{'_BountyAmount': None, '_CreationDate': '201...  \n",
       "8   [{'_BountyAmount': None, '_CreationDate': '201...  \n",
       "15  [{'_BountyAmount': None, '_CreationDate': '201...  \n",
       "19                                               None  \n",
       "\n",
       "[5 rows x 24 columns]"
      ]
     },
     "execution_count": 3,
     "metadata": {},
     "output_type": "execute_result"
    }
   ],
   "source": [
    "tag_posts = posts_df.dropna(axis=0, subset=['_Tags'])\n",
    "print('Posts w/ tags: {:,}'.format(len(tag_posts.index)))\n",
    "tag_posts.head(5)"
   ]
  },
  {
   "cell_type": "code",
   "execution_count": 4,
   "metadata": {},
   "outputs": [
    {
     "name": "stderr",
     "output_type": "stream",
     "text": [
      "/home/rjurney/anaconda/envs/deep/lib/python3.6/site-packages/ipykernel_launcher.py:1: SettingWithCopyWarning: \n",
      "A value is trying to be set on a copy of a slice from a DataFrame.\n",
      "Try using .loc[row_indexer,col_indexer] = value instead\n",
      "\n",
      "See the caveats in the documentation: http://pandas.pydata.org/pandas-docs/stable/indexing.html#indexing-view-versus-copy\n",
      "  \"\"\"Entry point for launching an IPython kernel.\n"
     ]
    },
    {
     "data": {
      "text/plain": [
       "4                  php\n",
       "6           javascript\n",
       "6            wordpress\n",
       "6          google-maps\n",
       "6    google-maps-api-3\n",
       "dtype: object"
      ]
     },
     "execution_count": 4,
     "metadata": {},
     "output_type": "execute_result"
    }
   ],
   "source": [
    "tag_posts['_Tag_List'] = tag_posts['_Tags'].apply(lambda x: re.findall('\\<(.+?)\\>', x))\n",
    "\n",
    "flat_tags = tag_posts.apply(lambda x: pd.Series(x['_Tag_List']),axis=1).stack().reset_index(level=1, drop=True)\n",
    "flat_tags.head(5)"
   ]
  },
  {
   "cell_type": "code",
   "execution_count": 5,
   "metadata": {},
   "outputs": [
    {
     "name": "stdout",
     "output_type": "stream",
     "text": [
      "javascript    10080\n",
      "java           8792\n",
      "c#             7374\n",
      "php            7303\n",
      "python         6470\n",
      "android        6399\n",
      "jquery         5471\n",
      "html           4817\n",
      "c++            3579\n",
      "css            3397\n",
      "dtype: int64\n"
     ]
    }
   ],
   "source": [
    "%matplotlib inline\n",
    "\n",
    "import matplotlib.pyplot as plt\n",
    "\n",
    "tag_counts = flat_tags.groupby(flat_tags).count().sort_values(ascending=False)\n",
    "print(tag_counts[0:10])"
   ]
  },
  {
   "cell_type": "code",
   "execution_count": 6,
   "metadata": {},
   "outputs": [
    {
     "data": {
      "text/plain": [
       "<matplotlib.axes._subplots.AxesSubplot at 0x7fe6668eba58>"
      ]
     },
     "execution_count": 6,
     "metadata": {},
     "output_type": "execute_result"
    },
    {
     "data": {
      "image/png": "[encoded data removed]",
      "text/plain": [
       "<Figure size 432x288 with 1 Axes>"
      ]
     },
     "metadata": {
      "needs_background": "light"
     },
     "output_type": "display_data"
    }
   ],
   "source": [
    "tag_counts[tag_counts <= 100].hist(bins=50)"
   ]
  },
  {
   "cell_type": "code",
   "execution_count": 7,
   "metadata": {},
   "outputs": [
    {
     "data": {
      "text/plain": [
       "<matplotlib.axes._subplots.AxesSubplot at 0x7fe6669cb940>"
      ]
     },
     "execution_count": 7,
     "metadata": {},
     "output_type": "execute_result"
    },
    {
     "data": {
      "image/png": "[encoded data removed]",
      "text/plain": [
       "<Figure size 432x288 with 1 Axes>"
      ]
     },
     "metadata": {
      "needs_background": "light"
     },
     "output_type": "display_data"
    }
   ],
   "source": [
    "tag_counts[tag_counts > 100].hist(bins=50)"
   ]
  },
  {
   "cell_type": "code",
   "execution_count": 8,
   "metadata": {},
   "outputs": [
    {
     "name": "stdout",
     "output_type": "stream",
     "text": [
      "There are 18,549 tags with more than 0 count\n",
      "There are 2,730 tags with more than 10 count\n",
      "There are 1,589 tags with more than 20 count\n",
      "There are 709 tags with more than 50 count\n",
      "There are 367 tags with more than 100 count\n",
      "There are 33 tags with more than 1,000 count\n"
     ]
    },
    {
     "data": {
      "text/plain": [
       "33"
      ]
     },
     "execution_count": 8,
     "metadata": {},
     "output_type": "execute_result"
    }
   ],
   "source": [
    "from collections import defaultdict\n",
    "# import seaborn as sns\n",
    "\n",
    "tag_counts = defaultdict(int)\n",
    "\n",
    "for row in tag_posts['_Tag_List']:\n",
    "    for tag in row:\n",
    "        tag_counts[tag] += 1\n",
    "\n",
    "for i in [0, 10, 20, 50, 100, 1000]:\n",
    "    filtered_tags = list(filter(lambda x: x > i, tag_counts.values()))\n",
    "    print('There are {:,} tags with more than {:,} count'.format(len(filtered_tags), i))\n",
    "\n",
    "MIN_TAGS = 1000\n",
    "\n",
    "record_count = len([i for i in filter(lambda x: x > MIN_TAGS, tag_counts.values())])\n",
    "record_count"
   ]
  },
  {
   "cell_type": "code",
   "execution_count": 9,
   "metadata": {},
   "outputs": [
    {
     "name": "stdout",
     "output_type": "stream",
     "text": [
      "Total unique tags with 1,000 occurrences: 33\n"
     ]
    }
   ],
   "source": [
    "all_tags = set()\n",
    "for row in tag_posts['_Tag_List']:\n",
    "    for tag in row:\n",
    "        if tag_counts[tag] > MIN_TAGS:\n",
    "            all_tags.add(tag)\n",
    "print('Total unique tags with {:,} occurrences: {:,}'.format(MIN_TAGS, len(all_tags)))\n",
    "sorted_all_tags = sorted(all_tags)\n",
    "\n",
    "tag_to_id = {val:i for i, val in enumerate(sorted_all_tags)}\n",
    "id_to_tag = {i:val for i, val in enumerate(sorted_all_tags)}"
   ]
  },
  {
   "cell_type": "code",
   "execution_count": 10,
   "metadata": {},
   "outputs": [
    {
     "data": {
      "text/plain": [
       "(98278, 33, 33)"
      ]
     },
     "execution_count": 10,
     "metadata": {},
     "output_type": "execute_result"
    }
   ],
   "source": [
    "labels = []\n",
    "tag_list = tag_posts['_Tag_List'].tolist()\n",
    "\n",
    "# Loop through every post...\n",
    "for i, tag_set in enumerate(tag_posts['_Tag_List'].tolist()):\n",
    "    # Then build a record_count element wide list for each tag present\n",
    "    label_row = []\n",
    "    for tag in sorted_all_tags:\n",
    "        if tag in tag_list[i]:\n",
    "            label_row.append(1)\n",
    "        else:\n",
    "            label_row.append(0)\n",
    "    labels.append(label_row)\n",
    "    \n",
    "tag_labels = [id_to_tag[key_id] for key_id in sorted(id_to_tag.keys()) if tag_counts[id_to_tag[key_id]] > MIN_TAGS]\n",
    "\n",
    "len(labels), len(labels[0]), len(tag_labels)"
   ]
  },
  {
   "cell_type": "code",
   "execution_count": 11,
   "metadata": {},
   "outputs": [
    {
     "name": "stderr",
     "output_type": "stream",
     "text": [
      "Using TensorFlow backend.\n"
     ]
    },
    {
     "data": {
      "text/plain": [
       "array([[0., 0., 1., ..., 0., 0., 0.],\n",
       "       [0., 0., 1., ..., 0., 0., 0.],\n",
       "       [0., 1., 1., ..., 0., 0., 0.],\n",
       "       ...,\n",
       "       [0., 1., 1., ..., 0., 0., 0.],\n",
       "       [0., 1., 1., ..., 0., 0., 0.],\n",
       "       [0., 1., 1., ..., 0., 0., 0.]])"
      ]
     },
     "execution_count": 11,
     "metadata": {},
     "output_type": "execute_result"
    }
   ],
   "source": [
    "from bs4 import BeautifulSoup\n",
    "from sklearn.feature_extraction.text import TfidfVectorizer\n",
    "from nltk.corpus import stopwords\n",
    "from keras.preprocessing.text import Tokenizer\n",
    "\n",
    "\n",
    "def extract_text(x):\n",
    "    \"\"\"Extract non-code text from posts (questions/answers)\"\"\"\n",
    "    doc = BeautifulSoup(x)\n",
    "    codes = doc.find_all('code')\n",
    "    [code.extract() if code else None for code in codes]\n",
    "    return ' '.join(doc.text.split()[0:150])\n",
    "\n",
    "post_text = tag_posts._Body.apply(extract_text)\n",
    "\n",
    "t = Tokenizer(5000)\n",
    "t.fit_on_texts(post_text)\n",
    "tokenized_text = t.texts_to_matrix(post_text)\n",
    "tokenized_text"
   ]
  },
  {
   "cell_type": "code",
   "execution_count": 12,
   "metadata": {},
   "outputs": [
    {
     "data": {
      "text/plain": [
       "((98278, 5000), 98278, 33)"
      ]
     },
     "execution_count": 12,
     "metadata": {},
     "output_type": "execute_result"
    }
   ],
   "source": [
    "tokenized_text.shape, len(labels), len(labels[0])"
   ]
  },
  {
   "cell_type": "code",
   "execution_count": 13,
   "metadata": {},
   "outputs": [
    {
     "name": "stdout",
     "output_type": "stream",
     "text": [
      "We are left with 98,278 example posts\n"
     ]
    }
   ],
   "source": [
    "# Validate the posts match the labels\n",
    "assert(tokenized_text.shape[0] == len(labels))\n",
    "print('We are left with {:,} example posts'.format(tokenized_text.shape[0]))"
   ]
  },
  {
   "cell_type": "code",
   "execution_count": 14,
   "metadata": {},
   "outputs": [
    {
     "data": {
      "text/plain": [
       "((10000, 5000), (10000, 33))"
      ]
     },
     "execution_count": 14,
     "metadata": {},
     "output_type": "execute_result"
    }
   ],
   "source": [
    "TRAINING_COUNT = 10000\n",
    "\n",
    "# Filter rows with all 0s for tags\n",
    "label_mx = np.array(labels)\n",
    "del labels\n",
    "max_per_row = label_mx.max(axis=1)\n",
    "non_zero_index = np.nonzero(max_per_row)\n",
    "\n",
    "label_mx = label_mx[non_zero_index][0:TRAINING_COUNT]\n",
    "tokenized_text = tokenized_text[non_zero_index]\n",
    "tokenized_text = tokenized_text[0:TRAINING_COUNT]\n",
    "\n",
    "tokenized_text.shape, label_mx.shape"
   ]
  },
  {
   "cell_type": "code",
   "execution_count": 15,
   "metadata": {},
   "outputs": [],
   "source": [
    "token_lengths = [len(x) for x in tokenized_text.tolist()]"
   ]
  },
  {
   "cell_type": "code",
   "execution_count": 15,
   "metadata": {},
   "outputs": [
    {
     "data": {
      "text/plain": [
       "((9000, 5000), (1000, 5000), (9000, 33), (1000, 33))"
      ]
     },
     "execution_count": 15,
     "metadata": {},
     "output_type": "execute_result"
    }
   ],
   "source": [
    "from sklearn.model_selection import train_test_split\n",
    "\n",
    "TEST_SPLIT = 0.1\n",
    "\n",
    "X_train, X_test, y_train, y_test = train_test_split(\n",
    "    tokenized_text,\n",
    "    label_mx,\n",
    "    test_size=TEST_SPLIT,\n",
    "    random_state=34\n",
    ")\n",
    "\n",
    "X_train.shape, X_test.shape, y_train.shape, y_test.shape"
   ]
  },
  {
   "cell_type": "code",
   "execution_count": 23,
   "metadata": {},
   "outputs": [
    {
     "name": "stdout",
     "output_type": "stream",
     "text": [
      "_________________________________________________________________\n",
      "Layer (type)                 Output Shape              Param #   \n",
      "=================================================================\n",
      "input_4 (InputLayer)         (None, 5000)              0         \n",
      "_________________________________________________________________\n",
      "embedding_3 (Embedding)      (None, 5000, 32)          160000    \n",
      "_________________________________________________________________\n",
      "lstm_3 (LSTM)                (None, 50)                16600     \n",
      "_________________________________________________________________\n",
      "dense_3 (Dense)              (None, 33)                1683      \n",
      "_________________________________________________________________\n",
      "batch_normalization_3 (Batch (None, 33)                132       \n",
      "=================================================================\n",
      "Total params: 178,415\n",
      "Trainable params: 178,349\n",
      "Non-trainable params: 66\n",
      "_________________________________________________________________\n"
     ]
    }
   ],
   "source": [
    "from keras.layers import Input, concatenate, Activation, Dense, LSTM, BatchNormalization, Embedding, Dropout\n",
    "from keras.metrics import categorical_accuracy, top_k_categorical_accuracy\n",
    "from keras.models import Model\n",
    "from keras.optimizers import Adam\n",
    "from keras_metrics import precision\n",
    "\n",
    "MAX_TEXT_NB_WORDS = 5000\n",
    "TEXT_EMBEDDING_DIM = 32\n",
    "\n",
    "# Text model\n",
    "text_input = Input(shape=(X_train.shape[1],))\n",
    "\n",
    "text_embedding = Embedding(\n",
    "    MAX_TEXT_NB_WORDS, \n",
    "    TEXT_EMBEDDING_DIM, \n",
    "    input_length=X_train.shape[1],\n",
    ")(text_input)\n",
    "\n",
    "text_lstm = LSTM(\n",
    "    50, \n",
    "    input_shape=(X_train.shape[1], X_train.shape[1] * TEXT_EMBEDDING_DIM)\n",
    ")(text_embedding)\n",
    "\n",
    "text_dense = Dense(record_count, activation='sigmoid')(text_lstm)\n",
    "\n",
    "text_batch = BatchNormalization()(text_dense)\n",
    "\n",
    "text_model = Model(\n",
    "    inputs=text_input, \n",
    "    outputs=text_batch\n",
    ")\n",
    "\n",
    "def abs_KL_div(y_true, y_pred):\n",
    "    y_true = K.clip(y_true, K.epsilon(), None)\n",
    "    y_pred = K.clip(y_pred, K.epsilon(), None)\n",
    "    return K.sum(K.abs( (y_true - y_pred) * (K.log(y_true / y_pred))), axis=-1)\n",
    "\n",
    "from keras.optimizers import Adam\n",
    "adam = Adam(lr=0.001)\n",
    "\n",
    "text_model.compile(loss='binary_crossentropy', optimizer=adam, metrics=[precision(), abs_KL_div, 'mae'])\n",
    "\n",
    "text_model.summary()"
   ]
  },
  {
   "cell_type": "code",
   "execution_count": 36,
   "metadata": {},
   "outputs": [],
   "source": [
    "class_freq = np.sum(label_mx, axis=0) / label_mx.shape[0]\n",
    "class_weights = (1 / class_freq).tolist()\n",
    "class_weights_dict = {i:val for i, val in enumerate(class_weights)}"
   ]
  },
  {
   "cell_type": "code",
   "execution_count": 38,
   "metadata": {},
   "outputs": [
    {
     "name": "stdout",
     "output_type": "stream",
     "text": [
      "Train on 9000 samples, validate on 1000 samples\n",
      "Epoch 1/4\n",
      "9000/9000 [==============================] - 1079s 120ms/step - loss: 10.9362 - precision: 0.0000e+00 - abs_KL_div: 14.9345 - mean_absolute_error: 0.0546 - val_loss: 0.3935 - val_precision: 0.0000e+00 - val_abs_KL_div: 86.0637 - val_mean_absolute_error: 0.2190\n",
      "Epoch 2/4\n",
      "9000/9000 [==============================] - 1081s 120ms/step - loss: 10.3175 - precision: 0.0000e+00 - abs_KL_div: 16.1010 - mean_absolute_error: 0.0666 - val_loss: 0.4539 - val_precision: 0.0000e+00 - val_abs_KL_div: 69.5166 - val_mean_absolute_error: 0.1939\n"
     ]
    }
   ],
   "source": [
    "from sklearn.utils.class_weight import compute_sample_weight\n",
    "from keras.callbacks import EarlyStopping\n",
    "\n",
    "epochs = 4\n",
    "batch_size = 32\n",
    "\n",
    "history = text_model.fit(\n",
    "    X_train,\n",
    "    y_train,\n",
    "    epochs=epochs,\n",
    "    batch_size=batch_size,\n",
    "    validation_split=0.1,\n",
    "    callbacks=[\n",
    "        EarlyStopping(monitor='loss', patience=1, min_delta=0.001),\n",
    "        EarlyStopping(monitor='val_loss', patience=1, min_delta=0.001),\n",
    "    ],\n",
    "    class_weight=class_weights_dict,\n",
    "    validation_data=(X_test, y_test)\n",
    ")"
   ]
  },
  {
   "cell_type": "code",
   "execution_count": 39,
   "metadata": {},
   "outputs": [
    {
     "name": "stdout",
     "output_type": "stream",
     "text": [
      "1000/1000 [==============================] - 32s 32ms/step\n"
     ]
    },
    {
     "data": {
      "text/plain": [
       "[(0.45392896127700805, 'loss'),\n",
       " (0.0, 'precision'),\n",
       " (69.51664611816406, 'abs_KL_div'),\n",
       " (0.19392103934288024, 'mean_absolute_error')]"
      ]
     },
     "execution_count": 39,
     "metadata": {},
     "output_type": "execute_result"
    }
   ],
   "source": [
    "accr = text_model.evaluate(X_test, y_test)#, sample_weight=sample_weights)\n",
    "[i for i in zip(accr, text_model.metrics_names)]"
   ]
  },
  {
   "cell_type": "code",
   "execution_count": 40,
   "metadata": {},
   "outputs": [
    {
     "name": "stdout",
     "output_type": "stream",
     "text": [
      "{'val_loss': [0.39347290563583376, 0.45392896127700805], 'val_precision': [0.0, 0.0], 'val_abs_KL_div': [86.06371472167969, 69.51664611816406], 'val_mean_absolute_error': [0.21895033693313598, 0.19392103934288024], 'loss': [10.936246105617947, 10.317541198730469], 'precision': [0.0, -0.0], 'abs_KL_div': [14.934465355767145, 16.10102809990777], 'mean_absolute_error': [0.054640831351280214, 0.0665559841129515]}\n"
     ]
    },
    {
     "data": {
      "image/png": "[encoded data removed]",
      "text/plain": [
       "<Figure size 432x288 with 1 Axes>"
      ]
     },
     "metadata": {
      "needs_background": "light"
     },
     "output_type": "display_data"
    },
    {
     "data": {
      "image/png": "[encoded data removed]",
      "text/plain": [
       "<Figure size 432x288 with 1 Axes>"
      ]
     },
     "metadata": {
      "needs_background": "light"
     },
     "output_type": "display_data"
    }
   ],
   "source": [
    "%matplotlib inline\n",
    "\n",
    "import matplotlib.pyplot as plt\n",
    "\n",
    "print(history.history)\n",
    "# summarize history for accuracy\n",
    "plt.plot(history.history['val_loss'])\n",
    "plt.plot(history.history['val_abs_KL_div'])\n",
    "plt.title('model accuracy')\n",
    "plt.ylabel('accuracy')\n",
    "plt.xlabel('epoch')\n",
    "plt.legend(['train', 'test'], loc='upper left')\n",
    "plt.show()\n",
    "\n",
    "# summarize history for loss\n",
    "plt.plot(history.history['loss'])\n",
    "plt.plot(history.history['val_loss'])\n",
    "plt.title('model loss')\n",
    "plt.ylabel('loss')\n",
    "plt.xlabel('epoch')\n",
    "plt.legend(['train', 'test'], loc='upper left')\n",
    "plt.show()"
   ]
  },
  {
   "cell_type": "code",
   "execution_count": 41,
   "metadata": {},
   "outputs": [
    {
     "name": "stdout",
     "output_type": "stream",
     "text": [
      "Cutoff: 0.0001\n",
      "Hamming loss: 0.6827878787878788\n",
      "Jaccard micro score: 0.03697055178014275\n",
      "Jaccard macro score: 0.026382129500260348\n",
      "Jaccard weighted score: 0.04497032859273203\n",
      "Cutoff: 0.001\n",
      "Hamming loss: 0.6827575757575758\n",
      "Jaccard micro score: 0.03697213198837408\n",
      "Jaccard macro score: 0.026383624128659296\n",
      "Jaccard weighted score: 0.044972022077269885\n",
      "Cutoff: 0.01\n",
      "Hamming loss: 0.626969696969697\n",
      "Jaccard micro score: 0.037092195280867504\n",
      "Jaccard macro score: 0.024297907519231013\n",
      "Jaccard weighted score: 0.04298342135485958\n",
      "Cutoff: 0.1\n",
      "Hamming loss: 0.4511818181818182\n",
      "Jaccard micro score: 0.04484218629715166\n",
      "Jaccard macro score: 0.021331565184648335\n",
      "Jaccard weighted score: 0.041689444527409115\n",
      "Cutoff: 0.2\n",
      "Hamming loss: 0.307\n",
      "Jaccard micro score: 0.05503217983397071\n",
      "Jaccard macro score: 0.018022252170713047\n",
      "Jaccard weighted score: 0.03994746830711786\n",
      "Cutoff: 0.4\n",
      "Hamming loss: 0.06506060606060605\n",
      "Jaccard micro score: 0.05418502202643172\n",
      "Jaccard macro score: 0.0037573313782991204\n",
      "Jaccard weighted score: 0.011086546448843972\n",
      "Cutoff: 0.5\n",
      "Hamming loss: 0.0649090909090909\n",
      "Jaccard micro score: 0.054304635761589407\n",
      "Jaccard macro score: 0.0037573313782991204\n",
      "Jaccard weighted score: 0.011086546448843972\n",
      "Cutoff: 0.6\n",
      "Hamming loss: 0.04236363636363636\n",
      "Jaccard micro score: 0.0\n",
      "Jaccard macro score: 0.0\n",
      "Jaccard weighted score: 0.0\n",
      "Cutoff: 0.8\n",
      "Hamming loss: 0.04236363636363636\n",
      "Jaccard micro score: 0.0\n",
      "Jaccard macro score: 0.0\n",
      "Jaccard weighted score: 0.0\n"
     ]
    }
   ],
   "source": [
    "from sklearn.metrics import hamming_loss, jaccard_score\n",
    "\n",
    "import keras.backend as K\n",
    "import tensorflow as tf\n",
    "\n",
    "y_pred = text_model.predict(X_test)\n",
    "\n",
    "sess = tf.Session()\n",
    "with sess.as_default():\n",
    "    for cutoff in [0.0001, 0.001, 0.01, 0.1, 0.2, 0.4, 0.5, 0.6, 0.8]:\n",
    "        y_pred_bin = K.greater(y_pred, cutoff).eval()\n",
    "        print('Cutoff: {:,}'.format(cutoff))\n",
    "        print('Hamming loss: {:,}'.format(\n",
    "            hamming_loss(y_test, y_pred_bin)\n",
    "        ))\n",
    "        for j_type in ['micro', 'macro', 'weighted']:\n",
    "            print('Jaccard {} score: {:,}'.format(\n",
    "                j_type,\n",
    "                jaccard_score(y_test, y_pred_bin, average=j_type)\n",
    "            ))\n",
    "        print('')"
   ]
  },
  {
   "cell_type": "code",
   "execution_count": 42,
   "metadata": {},
   "outputs": [
    {
     "data": {
      "text/plain": [
       "array([[0.12111855, 0.36354065, 0.37200546, ..., 0.14501858, 0.04779339,\n",
       "        0.1223917 ],\n",
       "       [0.12111855, 0.36354065, 0.37200546, ..., 0.14501858, 0.04779339,\n",
       "        0.12239075],\n",
       "       [0.12111855, 0.36354065, 0.37200546, ..., 0.14501858, 0.04779339,\n",
       "        0.1223917 ],\n",
       "       ...,\n",
       "       [0.12111855, 0.36354065, 0.37200546, ..., 0.14501858, 0.04779339,\n",
       "        0.1223917 ],\n",
       "       [0.12111855, 0.36354065, 0.37200546, ..., 0.14501858, 0.04779339,\n",
       "        0.1223917 ],\n",
       "       [0.12111855, 0.36354065, 0.37200546, ..., 0.14501858, 0.04779339,\n",
       "        0.1223917 ]], dtype=float32)"
      ]
     },
     "execution_count": 42,
     "metadata": {},
     "output_type": "execute_result"
    }
   ],
   "source": [
    "y_pred"
   ]
  },
  {
   "cell_type": "code",
   "execution_count": null,
   "metadata": {},
   "outputs": [],
   "source": []
  }
 ],
 "metadata": {
  "kernelspec": {
   "display_name": "Python 3",
   "language": "python",
   "name": "python3"
  },
  "language_info": {
   "codemirror_mode": {
    "name": "ipython",
    "version": 3
   },
   "file_extension": ".py",
   "mimetype": "text/x-python",
   "name": "python",
   "nbconvert_exporter": "python",
   "pygments_lexer": "ipython3",
   "version": "3.6.8"
  }
 },
 "nbformat": 4,
 "nbformat_minor": 2
}
