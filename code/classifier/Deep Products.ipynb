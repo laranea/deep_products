{
 "cells": [
  {
   "cell_type": "markdown",
   "metadata": {},
   "source": [
    "# Deep Products: Building and Shipping Apps Using Deep Learning\n",
    "\n",
    "This book attempts to simultaneously build and document the creation of a data-driven product using deep learning and natural language processing."
   ]
  },
  {
   "cell_type": "code",
   "execution_count": 10,
   "metadata": {},
   "outputs": [],
   "source": [
    "import sys, os, warnings\n",
    "if not sys.warnoptions:\n",
    "    warnings.simplefilter(\"ignore\")"
   ]
  },
  {
   "cell_type": "code",
   "execution_count": 11,
   "metadata": {},
   "outputs": [],
   "source": [
    "import findspark\n",
    "findspark.init()\n",
    "\n",
    "import pyspark\n",
    "def show(self, x=5):\n",
    "    return self.limit(x).toPandas()\n",
    "#pyspark.sql.DataFrame.show = show\n",
    "\n",
    "import pyspark.sql.functions as F\n",
    "\n",
    "from pyspark.sql import SparkSession\n",
    "spark = SparkSession.builder.appName('Deep Products').getOrCreate()"
   ]
  },
  {
   "cell_type": "code",
   "execution_count": 12,
   "metadata": {},
   "outputs": [],
   "source": [
    "# Load patent base records, text summaries, citation links, CPC groups/subgroups and their names\n",
    "patents = spark.read.csv('../data/patents*.csv.gz', header=True)\n",
    "patents = patents.filter(patents.date > '1999-12-31')\n",
    "\n",
    "patent_applications = spark.read.csv('../data/application.tsv.gz', header=True, sep='\\t')\n",
    "\n",
    "summaries = spark.read.csv('../data/summary*.csv.gz', header=True).drop('uuid')\n",
    "summaries = summaries.withColumnRenamed('text', 'summary')\n",
    "\n",
    "citations = spark.read.csv('../data/citation*.csv.gz', header=True).drop('uuid')\n",
    "cpcs = spark.read.csv('../data/cpc*.csv.gz', header=True).drop('uuid')\n",
    "cpc_groups = spark.read.csv('../data/cpc_group.tsv.gz', header=True, sep='\\t')\n",
    "cpc_subgroups = spark.read.csv('../data/cpc_subgroup.tsv.gz', header=True, sep='\\t')\n",
    "\n",
    "assignees = spark.read.csv('../data/assignee.tsv.gz', header=True, sep='\\t')\n",
    "patent_assignees = spark.read.csv('../data/patent_assignee.tsv.gz', header=True, sep='\\t')\n",
    "patent_inventors = spark.read.csv('../data/patent_inventor.tsv.gz', header=True, sep='\\t')\n",
    "inventors = spark.read.csv('../data/inventor.tsv.gz', header=True, sep='\\t')"
   ]
  },
  {
   "cell_type": "markdown",
   "metadata": {},
   "source": [
    "## Verify that the Application ID in the XML Applications Matches the Patentview Records\n",
    "\n",
    "It does match, XML file patent application number `14380506` has a corresponding record in the patentview database with the same date, etc."
   ]
  },
  {
   "cell_type": "code",
   "execution_count": 264,
   "metadata": {},
   "outputs": [
    {
     "data": {
      "text/html": [
       "<div>\n",
       "<style scoped>\n",
       "    .dataframe tbody tr th:only-of-type {\n",
       "        vertical-align: middle;\n",
       "    }\n",
       "\n",
       "    .dataframe tbody tr th {\n",
       "        vertical-align: top;\n",
       "    }\n",
       "\n",
       "    .dataframe thead th {\n",
       "        text-align: right;\n",
       "    }\n",
       "</style>\n",
       "<table border=\"1\" class=\"dataframe\">\n",
       "  <thead>\n",
       "    <tr style=\"text-align: right;\">\n",
       "      <th></th>\n",
       "      <th>id</th>\n",
       "      <th>patent_id</th>\n",
       "      <th>series_code</th>\n",
       "      <th>number</th>\n",
       "      <th>country</th>\n",
       "      <th>date</th>\n",
       "    </tr>\n",
       "  </thead>\n",
       "  <tbody>\n",
       "    <tr>\n",
       "      <th>0</th>\n",
       "      <td>14/380506</td>\n",
       "      <td>9339069</td>\n",
       "      <td>14</td>\n",
       "      <td>14380506</td>\n",
       "      <td>US</td>\n",
       "      <td>2013-02-22</td>\n",
       "    </tr>\n",
       "  </tbody>\n",
       "</table>\n",
       "</div>"
      ],
      "text/plain": [
       "          id patent_id series_code    number country        date\n",
       "0  14/380506   9339069          14  14380506      US  2013-02-22"
      ]
     },
     "execution_count": 264,
     "metadata": {},
     "output_type": "execute_result"
    }
   ],
   "source": [
    "patent_applications.registerTempTable('patent_applications')\n",
    "spark.sql('SELECT * FROM patent_applications WHERE number==\"14380506\"').show()"
   ]
  },
  {
   "cell_type": "markdown",
   "metadata": {},
   "source": [
    "## Load the Patent Applications from the USPTO\n",
    "\n",
    "Files from USPTO here: [https://developer.uspto.gov/product/patent-application-full-text-dataxml](https://developer.uspto.gov/product/patent-application-full-text-dataxml)"
   ]
  },
  {
   "cell_type": "code",
   "execution_count": 13,
   "metadata": {},
   "outputs": [
    {
     "name": "stdout",
     "output_type": "stream",
     "text": [
      "+--------------------+--------------+--------------------+--------------------+\n",
      "|            abstract|application_id|         description|               title|\n",
      "+--------------------+--------------+--------------------+--------------------+\n",
      "|Thermal managemen...|      16147573|description=\"Summ...|Reward-Based Upda...|\n",
      "|An automotive tes...|      16076741|description=\"Cros...|Automotive Testin...|\n",
      "|Compositions for ...|      15999302|description=\"Cros...|COMPOSITIONS FOR ...|\n",
      "|An embodiment of ...|      16003219|description=\"Summ...|REDUCTION OF WRIT...|\n",
      "|A door check mech...|      15538740|description=\"Summ...|DOOR CHECK MECHAN...|\n",
      "|To provide a semi...|      16016182|description=\"Summ...|METHOD OF MANUFAC...|\n",
      "|This application ...|      16154692|description=\"Cros...|METHOD AND APPARA...|\n",
      "|The cosmetic prod...|      16073064|description=\"Summ...|Cosmetic Article ...|\n",
      "|Power dissipation...|      15842311|description=\"Summ...|TOGGLE RATE REDUC...|\n",
      "|The present inven...|      16076972|description=\"Summ...|    MONOPOLE ANTENNA|\n",
      "|This disclosure d...|      16054975|description=\"Cros...|AUTHORING VIRTUAL...|\n",
      "|A vehicular visio...|      16157220|description=\"Cros...|VEHICULAR VISION ...|\n",
      "|An apparatus for ...|      16017287|description=\"Cros...|SHIPPING AND STOR...|\n",
      "|Various embodimen...|      16143639|description=\"Summ...|TECHNIQUES TO ENF...|\n",
      "|This disclosure c...|      15670216|description=\"Cros...|PLANT PROMOTER AN...|\n",
      "|Provided herein a...|      16061314|description=\"Cros...|RECOMBINANT RESPI...|\n",
      "|There is provided...|      16077044|description=\"Summ...|    NEW COMPOSITIONS|\n",
      "|A fully automatic...|      16156675|description=\"Cros...|FULLY AUTOMATIC T...|\n",
      "|A system may rece...|      16157789|description=\"Cros...|SECONDARY SOURCE ...|\n",
      "|A seed tab is pro...|      15667174|description=\"Summ...|SEED TAB AND SEED...|\n",
      "+--------------------+--------------+--------------------+--------------------+\n",
      "only showing top 20 rows\n",
      "\n"
     ]
    }
   ],
   "source": [
    "applications = spark.read.json('../data/applications/json/*.jsonl.gz')\n",
    "applications.show()"
   ]
  },
  {
   "cell_type": "markdown",
   "metadata": {},
   "source": [
    "## Join the USPTO XML Applications to the Patentview Grant Data\n",
    "\n",
    "Note that we limit because it kept crashing for out of disk space..."
   ]
  },
  {
   "cell_type": "code",
   "execution_count": 14,
   "metadata": {},
   "outputs": [],
   "source": [
    "pas = applications.limit(50000).join(patent_applications, applications.application_id == patent_applications.number, 'left')\n",
    "pas.registerTempTable('pas')"
   ]
  },
  {
   "cell_type": "markdown",
   "metadata": {},
   "source": [
    "## Sanity check what proportion of patent applications were granted"
   ]
  },
  {
   "cell_type": "code",
   "execution_count": 21,
   "metadata": {},
   "outputs": [
    {
     "name": "stdout",
     "output_type": "stream",
     "text": [
      "+-------+-----+\n",
      "|granted|total|\n",
      "+-------+-----+\n",
      "|      1|45827|\n",
      "|      0| 4185|\n",
      "+-------+-----+\n",
      "\n"
     ]
    }
   ],
   "source": [
    "spark.sql(\"\"\"\n",
    "SELECT \n",
    "    INT(ISNULL(patent_id)) AS granted,\n",
    "    COUNT(*) AS total\n",
    "FROM pas \n",
    "GROUP BY granted\n",
    "\"\"\").show()"
   ]
  },
  {
   "cell_type": "markdown",
   "metadata": {},
   "source": [
    "## Sanity check the grant counts by year"
   ]
  },
  {
   "cell_type": "code",
   "execution_count": null,
   "metadata": {},
   "outputs": [],
   "source": [
    "spark.sql(\"\"\"\n",
    "SELECT \n",
    "    YEAR(date) as year, \n",
    "    INT(ISNULL(patent_id)) AS granted, \n",
    "    COUNT(*) as total\n",
    "FROM pas\n",
    "WHERE YEAR(date) > \"2008-01-01\"\n",
    "GROUP BY \n",
    "    YEAR(date), \n",
    "    granted\n",
    "ORDER BY \n",
    "    YEAR(date), \n",
    "    granted\n",
    "\"\"\").show(20)"
   ]
  },
  {
   "cell_type": "markdown",
   "metadata": {},
   "source": [
    "## Inspect the final records..."
   ]
  },
  {
   "cell_type": "code",
   "execution_count": null,
   "metadata": {},
   "outputs": [],
   "source": [
    "spark.sql(\"\"\"\n",
    "SELECT \n",
    "    application_id, \n",
    "    title, \n",
    "    abstract, \n",
    "    description, \n",
    "    INT(ISNULL(patent_id)) AS granted \n",
    "FROM pas \n",
    "LIMIT 20\n",
    "\"\"\").show()"
   ]
  },
  {
   "cell_type": "markdown",
   "metadata": {},
   "source": [
    "## Write the training data out to disk as jsonl.gz files :)"
   ]
  },
  {
   "cell_type": "code",
   "execution_count": 17,
   "metadata": {},
   "outputs": [],
   "source": [
    "final_pas = spark.sql(\"\"\"SELECT application_id, title, abstract, description, INT(ISNULL(patent_id)) AS granted FROM pas\"\"\")\n",
    "final_pas.write.json('../data/patent_applications/2019-04-06.jsonl.gz', compression='gzip')"
   ]
  },
  {
   "cell_type": "markdown",
   "metadata": {},
   "source": []
  },
  {
   "cell_type": "code",
   "execution_count": null,
   "metadata": {},
   "outputs": [],
   "source": []
  },
  {
   "cell_type": "code",
   "execution_count": null,
   "metadata": {},
   "outputs": [],
   "source": []
  }
 ],
 "metadata": {
  "kernelspec": {
   "display_name": "Python 3",
   "language": "python",
   "name": "python3"
  },
  "language_info": {
   "codemirror_mode": {
    "name": "ipython",
    "version": 3
   },
   "file_extension": ".py",
   "mimetype": "text/x-python",
   "name": "python",
   "nbconvert_exporter": "python",
   "pygments_lexer": "ipython3",
   "version": "3.6.7"
  }
 },
 "nbformat": 4,
 "nbformat_minor": 2
}
