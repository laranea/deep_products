{
 "cells": [
  {
   "cell_type": "code",
   "execution_count": 71,
   "metadata": {},
   "outputs": [],
   "source": [
    "import pandas as pd\n",
    "import numpy as np\n",
    "import re\n",
    "\n",
    "import numpy as np\n",
    "from multiprocessing import cpu_count, Pool\n",
    " \n",
    "cores = cpu_count() # Number of CPU cores on your system\n",
    "partitions = cores # Define as many partitions as you want\n",
    " \n",
    "def parallelize(data, func):\n",
    "    data_split = np.array_split(data, partitions)\n",
    "    pool = Pool(cores)\n",
    "    data = pool.map(func, data_split)\n",
    "    pool.close()\n",
    "    pool.join()\n",
    "    return data"
   ]
  },
  {
   "cell_type": "code",
   "execution_count": 72,
   "metadata": {},
   "outputs": [
    {
     "name": "stdout",
     "output_type": "stream",
     "text": [
      "Original posts: 273,876\n"
     ]
    }
   ],
   "source": [
    "posts_df = pd.read_json('data/stackoverflow/sample/CombinedDocs.100K.Questions.jsonl.gz', lines=True)\n",
    "print('Original posts: {:,}'.format(len(posts_df.index)))"
   ]
  },
  {
   "cell_type": "code",
   "execution_count": 73,
   "metadata": {},
   "outputs": [
    {
     "name": "stdout",
     "output_type": "stream",
     "text": [
      "Posts w/ tags: 98,278\n"
     ]
    }
   ],
   "source": [
    "tag_posts = posts_df.dropna(axis=0, subset=['_Tags'])\n",
    "print('Posts w/ tags: {:,}'.format(len(tag_posts.index)))"
   ]
  },
  {
   "cell_type": "code",
   "execution_count": 74,
   "metadata": {},
   "outputs": [
    {
     "name": "stderr",
     "output_type": "stream",
     "text": [
      "/home/rjurney/anaconda/envs/deep/lib/python3.6/site-packages/ipykernel_launcher.py:1: SettingWithCopyWarning: \n",
      "A value is trying to be set on a copy of a slice from a DataFrame.\n",
      "Try using .loc[row_indexer,col_indexer] = value instead\n",
      "\n",
      "See the caveats in the documentation: http://pandas.pydata.org/pandas-docs/stable/indexing.html#indexing-view-versus-copy\n",
      "  \"\"\"Entry point for launching an IPython kernel.\n"
     ]
    },
    {
     "data": {
      "text/plain": [
       "Int64Index([     4,      6,      6,      6,      6,      8,      8,      8,\n",
       "                 8,      8,\n",
       "            ...\n",
       "            273866, 273867, 273867, 273867, 273867, 273870, 273870, 273872,\n",
       "            273872, 273875],\n",
       "           dtype='int64', length=290725)"
      ]
     },
     "execution_count": 74,
     "metadata": {},
     "output_type": "execute_result"
    }
   ],
   "source": [
    "tag_posts['_Tag_List'] = tag_posts['_Tags'].apply(lambda x: re.findall('\\<(.+?)\\>', x))\n",
    "\n",
    "flat_tags = tag_posts.apply(lambda x: pd.Series(x['_Tag_List']),axis=1).stack().reset_index(level=1, drop=True)\n",
    "flat_tags.index"
   ]
  },
  {
   "cell_type": "code",
   "execution_count": 75,
   "metadata": {},
   "outputs": [
    {
     "name": "stdout",
     "output_type": "stream",
     "text": [
      "javascript    10080\n",
      "java           8792\n",
      "c#             7374\n",
      "php            7303\n",
      "python         6470\n",
      "android        6399\n",
      "jquery         5471\n",
      "html           4817\n",
      "c++            3579\n",
      "css            3397\n",
      "dtype: int64\n"
     ]
    }
   ],
   "source": [
    "%matplotlib inline\n",
    "\n",
    "import matplotlib.pyplot as plt\n",
    "\n",
    "tag_counts = flat_tags.groupby(flat_tags).count().sort_values(ascending=False)\n",
    "print(tag_counts[0:10])"
   ]
  },
  {
   "cell_type": "code",
   "execution_count": 76,
   "metadata": {},
   "outputs": [
    {
     "data": {
      "text/plain": [
       "<matplotlib.axes._subplots.AxesSubplot at 0x7fce4c096470>"
      ]
     },
     "execution_count": 76,
     "metadata": {},
     "output_type": "execute_result"
    },
    {
     "data": {
      "image/png": "[encoded data removed]",
      "text/plain": [
       "<Figure size 432x288 with 1 Axes>"
      ]
     },
     "metadata": {
      "needs_background": "light"
     },
     "output_type": "display_data"
    }
   ],
   "source": [
    "tag_counts[tag_counts <= 100].hist(bins=50)"
   ]
  },
  {
   "cell_type": "code",
   "execution_count": 77,
   "metadata": {},
   "outputs": [
    {
     "data": {
      "text/plain": [
       "<matplotlib.axes._subplots.AxesSubplot at 0x7fce49f7ca20>"
      ]
     },
     "execution_count": 77,
     "metadata": {},
     "output_type": "execute_result"
    },
    {
     "data": {
      "image/png": "[encoded data removed]",
      "text/plain": [
       "<Figure size 432x288 with 1 Axes>"
      ]
     },
     "metadata": {
      "needs_background": "light"
     },
     "output_type": "display_data"
    }
   ],
   "source": [
    "tag_counts[tag_counts > 100].hist(bins=50)"
   ]
  },
  {
   "cell_type": "code",
   "execution_count": 78,
   "metadata": {},
   "outputs": [
    {
     "name": "stdout",
     "output_type": "stream",
     "text": [
      "There are 18,549 tags with more than 0 count\n",
      "There are 2,730 tags with more than 10 count\n",
      "There are 1,589 tags with more than 20 count\n",
      "There are 709 tags with more than 50 count\n",
      "There are 367 tags with more than 100 count\n",
      "There are 33 tags with more than 1,000 count\n"
     ]
    }
   ],
   "source": [
    "from collections import defaultdict\n",
    "# import seaborn as sns\n",
    "\n",
    "tag_counts = defaultdict(int)\n",
    "\n",
    "for row in tag_posts['_Tag_List']:\n",
    "    for tag in row:\n",
    "        tag_counts[tag] += 1\n",
    "\n",
    "for i in [0, 10, 20, 50, 100, 1000]:\n",
    "    filtered_tags = list(filter(lambda x: x > i, tag_counts.values()))\n",
    "    print('There are {:,} tags with more than {:,} count'.format(len(filtered_tags), i))\n",
    "    # t = pd.Series(filtered_tags, name=\"Tag Count\")\n",
    "    # ax = sns.distplot(t)\n",
    "\n",
    "MIN_TAGS = 50"
   ]
  },
  {
   "cell_type": "code",
   "execution_count": 79,
   "metadata": {},
   "outputs": [
    {
     "name": "stdout",
     "output_type": "stream",
     "text": [
      "Total unique tags with 50 occurrences: 709\n"
     ]
    }
   ],
   "source": [
    "all_tags = set()\n",
    "for row in tag_posts['_Tag_List']:\n",
    "    for tag in row:\n",
    "        if tag_counts[tag] > MIN_TAGS:\n",
    "            all_tags.add(tag)\n",
    "print('Total unique tags with {:,} occurrences: {:,}'.format(MIN_TAGS, len(all_tags)))\n",
    "sorted_all_tags = sorted(all_tags)\n",
    "\n",
    "tag_to_id = {val:i for i, val in enumerate(sorted_all_tags)}\n",
    "id_to_tag = {i:val for i, val in enumerate(sorted_all_tags)}"
   ]
  },
  {
   "cell_type": "code",
   "execution_count": 80,
   "metadata": {},
   "outputs": [
    {
     "data": {
      "text/plain": [
       "(98278, 709, 709)"
      ]
     },
     "execution_count": 80,
     "metadata": {},
     "output_type": "execute_result"
    }
   ],
   "source": [
    "labels = []\n",
    "tag_list = tag_posts['_Tag_List'].tolist()\n",
    "\n",
    "# Loop through every post...\n",
    "for i, tag_set in enumerate(tag_posts['_Tag_List'].tolist()):\n",
    "    # Then build a 709 element wide list for each tag present\n",
    "    label_row = []\n",
    "    for tag in sorted_all_tags:\n",
    "        if tag in tag_list[i]:\n",
    "            label_row.append(1)\n",
    "        else:\n",
    "            label_row.append(0)\n",
    "    labels.append(label_row)\n",
    "    \n",
    "tag_labels = [id_to_tag[key_id] for key_id in sorted(id_to_tag.keys()) if tag_counts[id_to_tag[key_id]] > MIN_TAGS]\n",
    "\n",
    "len(labels), len(labels[0]), len(tag_labels)"
   ]
  },
  {
   "cell_type": "code",
   "execution_count": 83,
   "metadata": {},
   "outputs": [
    {
     "name": "stdout",
     "output_type": "stream",
     "text": [
      "All text words: 359,130\n",
      "Filtered text words: 14,610\n"
     ]
    },
    {
     "data": {
      "text/plain": [
       "98156"
      ]
     },
     "execution_count": 83,
     "metadata": {},
     "output_type": "execute_result"
    }
   ],
   "source": [
    "from bs4 import BeautifulSoup\n",
    "\n",
    "# MIN_CODE_LABELS = 20\n",
    "MIN_TEXT_LABELS = 20\n",
    "\n",
    "\n",
    "# def extract_code(x):\n",
    "#     doc = BeautifulSoup(x)\n",
    "#     return '\\n'.join([d.text.lower() for d in doc.find_all('code')])\n",
    "    \n",
    "# post_code_text = tag_posts._Body.apply(extract_code)\n",
    "# post_code_words = [x.split() for x in post_code_text.tolist()]\n",
    "\n",
    "# # Count the words for testing\n",
    "# code_word_counts = defaultdict(int)\n",
    "# all_code_words = set()\n",
    "# for post in post_code_words:\n",
    "#     for word in post:\n",
    "#         code_word_counts[word] += 1\n",
    "#         all_code_words.add(word)\n",
    "\n",
    "# sorted_all_code_words = sorted(all_code_words)\n",
    "# print('All code words: {:,}'.format(len(sorted_all_code_words)))\n",
    "\n",
    "# code_word_to_id = {word:i for i, word in enumerate(sorted_all_code_words)}\n",
    "# code_id_to_word = {i:word for i, word in enumerate(sorted_all_code_words)}\n",
    "\n",
    "\n",
    "def extract_text(x):\n",
    "    doc = BeautifulSoup(x)\n",
    "    codes = doc.find_all('code')\n",
    "    [code.extract() if code else None for code in codes]\n",
    "    return doc.text\n",
    "\n",
    "post_text = tag_posts._Body.apply(extract_text)\n",
    "post_text_words = [x.split() for x in post_text.tolist()]\n",
    "\n",
    "text_word_counts = defaultdict(int)\n",
    "all_text_words = set()\n",
    "for post in post_text_words:\n",
    "    for word in post:\n",
    "        text_word_counts[word] += 1\n",
    "        all_text_words.add(word)\n",
    "\n",
    "sorted_all_text_words = sorted(all_text_words)\n",
    "print('All text words: {:,}'.format(len(sorted_all_text_words)))\n",
    "\n",
    "text_word_to_id = {word:i for i, word in enumerate(sorted_all_text_words)}\n",
    "text_id_to_word = {i:word for i, word in enumerate(sorted_all_text_words)}\n",
    "\n",
    "\n",
    "# Take words with > MIN_CODE_LABELS/MIN_TEXT_LABELS (20) instances and build a new set of records and labels/label counts\n",
    "# encoded_code = []\n",
    "encoded_text = []\n",
    "# raw_code_labels = set()\n",
    "raw_text_labels = set()\n",
    "# encoded_code_labels = set()\n",
    "encoded_text_labels = set()\n",
    "# encoded_code_label_counts = defaultdict(int)\n",
    "encoded_text_label_counts = defaultdict(int)\n",
    "# for i, (code, text) in enumerate(zip(post_code_words, post_text_words)):\n",
    "for i, text in enumerate(post_text_words):\n",
    "#     encoded_code_row = []\n",
    "#     for word in code:\n",
    "#         if code_word_counts[word] > MIN_CODE_LABELS:\n",
    "#             raw_code_labels.add(word)\n",
    "#             encoded_code_row.append(code_word_to_id[word])\n",
    "#             encoded_code_labels.add(code_word_to_id[word])\n",
    "#             encoded_code_label_counts[word] += 1\n",
    "    \n",
    "#     encoded_code.append(encoded_code_row)\n",
    "    \n",
    "    encoded_text_row = []\n",
    "    for word in text:\n",
    "        if text_word_counts[word] > MIN_TEXT_LABELS:\n",
    "            raw_text_labels.add(word)\n",
    "            encoded_text_row.append(text_word_to_id[word])\n",
    "            encoded_text_labels.add(text_word_to_id[word])\n",
    "            encoded_text_label_counts[word] += 1\n",
    "    \n",
    "    encoded_text.append(encoded_text_row)\n",
    "\n",
    "# print('Filtered code words: {:,}'.format(len(encoded_code_labels)))\n",
    "print('Filtered text words: {:,}'.format(len(encoded_text_labels)))\n",
    "\n",
    "    \n",
    "# Remove nulls now that we filtered words\n",
    "post_ids = defaultdict(bool)\n",
    "# filtered_code_words = []\n",
    "filtered_text_words = []\n",
    "for i, text in enumerate(encoded_text):\n",
    "    if len(text) < 5:\n",
    "        pass\n",
    "    else:\n",
    "        post_ids[i] = True\n",
    "        # filtered_code_words.append(code)\n",
    "        filtered_text_words.append(text)\n",
    "\n",
    "filtered_df = pd.DataFrame({'text': filtered_text_words}) # , 'code': filtered_code_words})\n",
    "len(filtered_df.index)"
   ]
  },
  {
   "cell_type": "code",
   "execution_count": 84,
   "metadata": {},
   "outputs": [
    {
     "data": {
      "text/html": [
       "<div>\n",
       "<style scoped>\n",
       "    .dataframe tbody tr th:only-of-type {\n",
       "        vertical-align: middle;\n",
       "    }\n",
       "\n",
       "    .dataframe tbody tr th {\n",
       "        vertical-align: top;\n",
       "    }\n",
       "\n",
       "    .dataframe thead th {\n",
       "        text-align: right;\n",
       "    }\n",
       "</style>\n",
       "<table border=\"1\" class=\"dataframe\">\n",
       "  <thead>\n",
       "    <tr style=\"text-align: right;\">\n",
       "      <th></th>\n",
       "      <th>text</th>\n",
       "    </tr>\n",
       "  </thead>\n",
       "  <tbody>\n",
       "    <tr>\n",
       "      <th>0</th>\n",
       "      <td>[158683, 257948, 351353, 250844, 238878, 11459...</td>\n",
       "    </tr>\n",
       "    <tr>\n",
       "      <th>1</th>\n",
       "      <td>[113673, 335962, 314718, 319722, 173250, 11136...</td>\n",
       "    </tr>\n",
       "    <tr>\n",
       "      <th>2</th>\n",
       "      <td>[114616, 206655, 178223, 180138, 300013, 33522...</td>\n",
       "    </tr>\n",
       "    <tr>\n",
       "      <th>3</th>\n",
       "      <td>[114590, 349666, 337859, 194758, 258704, 19937...</td>\n",
       "    </tr>\n",
       "    <tr>\n",
       "      <th>4</th>\n",
       "      <td>[114590, 238863, 173250, 163351, 91348, 201789...</td>\n",
       "    </tr>\n",
       "  </tbody>\n",
       "</table>\n",
       "</div>"
      ],
      "text/plain": [
       "                                                text\n",
       "0  [158683, 257948, 351353, 250844, 238878, 11459...\n",
       "1  [113673, 335962, 314718, 319722, 173250, 11136...\n",
       "2  [114616, 206655, 178223, 180138, 300013, 33522...\n",
       "3  [114590, 349666, 337859, 194758, 258704, 19937...\n",
       "4  [114590, 238863, 173250, 163351, 91348, 201789..."
      ]
     },
     "execution_count": 84,
     "metadata": {},
     "output_type": "execute_result"
    }
   ],
   "source": [
    "filtered_df.head(5)"
   ]
  },
  {
   "cell_type": "code",
   "execution_count": 85,
   "metadata": {},
   "outputs": [
    {
     "data": {
      "text/plain": [
       "<matplotlib.axes._subplots.AxesSubplot at 0x7fce4bcd2588>"
      ]
     },
     "execution_count": 85,
     "metadata": {},
     "output_type": "execute_result"
    },
    {
     "data": {
      "image/png": "[encoded data removed]",
      "text/plain": [
       "<Figure size 432x288 with 1 Axes>"
      ]
     },
     "metadata": {
      "needs_background": "light"
     },
     "output_type": "display_data"
    }
   ],
   "source": [
    "label_counts_df = pd.Series(\n",
    "    data=[i for i in encoded_code_label_counts.values()],\n",
    "    index=[i for i in encoded_code_label_counts.keys()]\n",
    ")\n",
    "label_counts_df = label_counts_df.sort_values(ascending=False)\n",
    "label_counts_df[label_counts_df > 100][label_counts_df < 1000].hist(bins=90)"
   ]
  },
  {
   "cell_type": "code",
   "execution_count": 86,
   "metadata": {},
   "outputs": [
    {
     "data": {
      "text/plain": [
       "<matplotlib.axes._subplots.AxesSubplot at 0x7fce8bab3668>"
      ]
     },
     "execution_count": 86,
     "metadata": {},
     "output_type": "execute_result"
    },
    {
     "data": {
      "image/png": "[encoded data removed]",
      "text/plain": [
       "<Figure size 432x288 with 1 Axes>"
      ]
     },
     "metadata": {
      "needs_background": "light"
     },
     "output_type": "display_data"
    }
   ],
   "source": [
    "label_counts_df[label_counts_df <= 100].hist(bins=10)"
   ]
  },
  {
   "cell_type": "code",
   "execution_count": 87,
   "metadata": {},
   "outputs": [
    {
     "data": {
      "text/plain": [
       "98156"
      ]
     },
     "execution_count": 87,
     "metadata": {},
     "output_type": "execute_result"
    }
   ],
   "source": [
    "from collections import defaultdict\n",
    "\n",
    "# Compute a new class label set and label counts that are non-null to match filtered_code_words\n",
    "new_labels = []\n",
    "for post_id in post_ids.keys():\n",
    "    label_set = labels[post_id]\n",
    "    if post_ids[post_id]:\n",
    "        new_labels.append(label_set)\n",
    "\n",
    "del labels\n",
    "len(new_labels)"
   ]
  },
  {
   "cell_type": "code",
   "execution_count": 88,
   "metadata": {},
   "outputs": [
    {
     "name": "stdout",
     "output_type": "stream",
     "text": [
      "We are left with 98,156 example posts\n"
     ]
    }
   ],
   "source": [
    "# Validate the posts match the labels\n",
    "assert(len(filtered_df.index) == len(new_labels))\n",
    "print('We are left with {:,} example posts'.format(len(filtered_df.index)))"
   ]
  },
  {
   "cell_type": "code",
   "execution_count": 89,
   "metadata": {},
   "outputs": [],
   "source": [
    "filtered_df['labels'] = new_labels\n",
    "\n",
    "# filtered_df['code_sums'] = filtered_df['code'].apply(lambda x: sum(x))\n",
    "filtered_df['text_sums'] = filtered_df['text'].apply(lambda x: sum(x))\n",
    "# filtered_df = filtered_df[(filtered_df['code_sums'] > 0) & (filtered_df['text_sums'] > 0)]\n",
    "filtered_df = filtered_df[filtered_df['text_sums'] > 0]\n",
    "\n",
    "filtered_df['label_max'] = filtered_df['labels'].apply(lambda x: max(x))\n",
    "filtered_df = filtered_df[filtered_df['label_max'] > 0]"
   ]
  },
  {
   "cell_type": "code",
   "execution_count": 90,
   "metadata": {},
   "outputs": [
    {
     "name": "stdout",
     "output_type": "stream",
     "text": [
      "(93169, 709)\n"
     ]
    },
    {
     "data": {
      "text/plain": [
       "<matplotlib.axes._subplots.AxesSubplot at 0x7fce9436ce48>"
      ]
     },
     "execution_count": 90,
     "metadata": {},
     "output_type": "execute_result"
    },
    {
     "data": {
      "image/png": "[encoded data removed]",
      "text/plain": [
       "<Figure size 432x288 with 1 Axes>"
      ]
     },
     "metadata": {
      "needs_background": "light"
     },
     "output_type": "display_data"
    }
   ],
   "source": [
    "label_ary = np.array(filtered_df['labels'].tolist())\n",
    "print(label_ary.shape)\n",
    "\n",
    "label_freq = np.sum(label_ary, axis=1)# / label_ary.shape[1]\n",
    "pd.Series(label_freq).hist(bins=6)"
   ]
  },
  {
   "cell_type": "code",
   "execution_count": 91,
   "metadata": {},
   "outputs": [
    {
     "data": {
      "text/plain": [
       "((83852, 4), (9317, 4), (83852, 709), (9317, 709))"
      ]
     },
     "execution_count": 91,
     "metadata": {},
     "output_type": "execute_result"
    }
   ],
   "source": [
    "from sklearn.model_selection import train_test_split\n",
    "\n",
    "TEST_SPLIT = 0.1\n",
    "\n",
    "label_mx = np.array(filtered_df['labels'].tolist())\n",
    "X_train, X_test, y_train, y_test = train_test_split(\n",
    "    filtered_df,\n",
    "    label_mx,\n",
    "    test_size=TEST_SPLIT,\n",
    "    random_state=33\n",
    ")\n",
    "\n",
    "X_train.shape, X_test.shape, y_train.shape, y_test.shape"
   ]
  },
  {
   "cell_type": "code",
   "execution_count": 92,
   "metadata": {},
   "outputs": [
    {
     "data": {
      "text/plain": [
       "((83852, 709), (9317, 709))"
      ]
     },
     "execution_count": 92,
     "metadata": {},
     "output_type": "execute_result"
    }
   ],
   "source": [
    "y_train.shape, y_test.shape"
   ]
  },
  {
   "cell_type": "code",
   "execution_count": 93,
   "metadata": {},
   "outputs": [],
   "source": [
    "from keras.preprocessing.sequence import pad_sequences\n",
    "\n",
    "# MAX_CODE_LENGTH = 50\n",
    "MAX_TEXT_LENGTH = 100\n",
    "\n",
    "# padded_code_train = pad_sequences(X_train['code'], MAX_CODE_LENGTH, padding='post')\n",
    "# padded_code_test  = pad_sequences(X_test['code'], MAX_CODE_LENGTH, padding='post')\n",
    "\n",
    "padded_text_train = pad_sequences(X_train['text'], MAX_TEXT_LENGTH, padding='post')\n",
    "padded_text_test  = pad_sequences(X_test['text'], MAX_TEXT_LENGTH, padding='post')"
   ]
  },
  {
   "cell_type": "code",
   "execution_count": 21,
   "metadata": {},
   "outputs": [],
   "source": [
    "# from keras.models import Sequential\n",
    "# from keras.layers import Embedding, SpatialDropout1D, LSTM, Dense\n",
    "\n",
    "# MAX_NB_WORDS = len(encoded_labels)\n",
    "# EMBEDDING_DIM = 50\n",
    "\n",
    "# model = Sequential()\n",
    "# model.add(Embedding(MAX_NB_WORDS, EMBEDDING_DIM, input_length=X_train.shape[1]))\n",
    "# model.add(SpatialDropout1D(0.2))\n",
    "# model.add(LSTM(100, dropout=0.2, recurrent_dropout=0.2))\n",
    "# model.add(Dense(709, activation='sigmoid'))\n",
    "# model.compile(loss='binary_crossentropy', optimizer='adam', metrics=['accuracy'])\n",
    "\n",
    "# model.summary()"
   ]
  },
  {
   "cell_type": "code",
   "execution_count": 22,
   "metadata": {},
   "outputs": [
    {
     "data": {
      "text/plain": [
       "(50, 100)"
      ]
     },
     "execution_count": 22,
     "metadata": {},
     "output_type": "execute_result"
    }
   ],
   "source": [
    "# padded_code_train.shape[1], \n",
    "padded_text_train.shape[1]"
   ]
  },
  {
   "cell_type": "code",
   "execution_count": 94,
   "metadata": {},
   "outputs": [
    {
     "data": {
      "text/plain": [
       "((83852, 100), dtype('int32'), (83852, 709), (9317, 709))"
      ]
     },
     "execution_count": 94,
     "metadata": {},
     "output_type": "execute_result"
    }
   ],
   "source": [
    "# padded_code_train.shape, padded_text_train.shape, padded_code_train.dtype, padded_text_train.dtype, \\\n",
    "#     y_train.shape, y_test.shape\n",
    "padded_text_train.shape, padded_text_train.dtype, y_train.shape, y_test.shape"
   ]
  },
  {
   "cell_type": "code",
   "execution_count": 95,
   "metadata": {},
   "outputs": [
    {
     "name": "stdout",
     "output_type": "stream",
     "text": [
      "_________________________________________________________________\n",
      "Layer (type)                 Output Shape              Param #   \n",
      "=================================================================\n",
      "input_20 (InputLayer)        (None, 100)               0         \n",
      "_________________________________________________________________\n",
      "embedding_20 (Embedding)     (None, 100, 64)           320000    \n",
      "_________________________________________________________________\n",
      "lstm_20 (LSTM)               (None, 100)               66000     \n",
      "_________________________________________________________________\n",
      "dropout_28 (Dropout)         (None, 100)               0         \n",
      "_________________________________________________________________\n",
      "dense_18 (Dense)             (None, 709)               71609     \n",
      "=================================================================\n",
      "Total params: 457,609\n",
      "Trainable params: 457,609\n",
      "Non-trainable params: 0\n",
      "_________________________________________________________________\n"
     ]
    }
   ],
   "source": [
    "from keras.layers import Input, concatenate, Activation, Dense, LSTM, BatchNormalization, Embedding, Dropout\n",
    "from keras.metrics import categorical_accuracy, top_k_categorical_accuracy\n",
    "from keras.models import Model\n",
    "from keras.optimizers import Adam\n",
    "\n",
    "# MAX_CODE_NB_WORDS = 5000\n",
    "MAX_TEXT_NB_WORDS = 5000\n",
    "# CODE_EMBEDDING_DIM = 64\n",
    "TEXT_EMBEDDING_DIM = 64\n",
    "\n",
    "# # Code mdoel\n",
    "# code_input = Input(shape=(padded_code_train.shape[1],))\n",
    "\n",
    "# code_embedding = Embedding(\n",
    "#     MAX_CODE_NB_WORDS, \n",
    "#     CODE_EMBEDDING_DIM, \n",
    "#     input_length=padded_code_train.shape[1]\n",
    "# )(code_input)\n",
    "\n",
    "# code_lstm = LSTM(\n",
    "#     100,\n",
    "#     input_shape=(padded_code_train.shape[0], padded_code_train.shape[1] * CODE_EMBEDDING_DIM)\n",
    "# )(code_embedding)\n",
    "\n",
    "# code_dropout = Dropout(0.2)(code_lstm)\n",
    "\n",
    "# code_dense = Dense(709, activation='sigmoid')(code_dropout)\n",
    "\n",
    "# code_model = Model(inputs=code_input, outputs=code_dense)\n",
    "\n",
    "# Text model\n",
    "text_input = Input(shape=(padded_text_train.shape[1],))\n",
    "\n",
    "text_embedding = Embedding(\n",
    "    MAX_TEXT_NB_WORDS, \n",
    "    TEXT_EMBEDDING_DIM, \n",
    "    input_length=padded_text_train.shape[1]\n",
    ")(text_input)\n",
    "\n",
    "text_lstm = LSTM(\n",
    "    100, \n",
    "    input_shape=(padded_text_train.shape[0], padded_text_train.shape[1] * TEXT_EMBEDDING_DIM)\n",
    ")(text_embedding)\n",
    "\n",
    "text_dropout = Dropout(0.2)(text_lstm)\n",
    "\n",
    "text_dense = Dense(709, activation='sigmoid')(text_dropout)\n",
    "\n",
    "text_model = Model(\n",
    "    inputs=text_input, \n",
    "    outputs=text_dense\n",
    ")\n",
    "\n",
    "# combined = concatenate(\n",
    "#     [code_model.output, text_model.output], \n",
    "#     axis=1\n",
    "# )\n",
    "\n",
    "# combined_dropout = Dropout(0.2)(combined)\n",
    "\n",
    "# # combined_dense = Dense(\n",
    "# #     100, \n",
    "# #     input_shape=(150,100)\n",
    "# # )(combined_dropout)\n",
    "\n",
    "# dense = Dense(709, activation='sigmoid')(combined_dropout)\n",
    "\n",
    "# # batch = BatchNormalization()(dense)\n",
    "# # act_output = Activation('sigmoid')(dense)\n",
    "\n",
    "# model = Model(\n",
    "#     inputs=[code_model.input, text_model.input], \n",
    "#     outputs=dense\n",
    "# )\n",
    "\n",
    "from keras import backend as K\n",
    "\n",
    "def abs_KL_div(y_true, y_pred):\n",
    "    y_true = K.clip(y_true, K.epsilon(), None)\n",
    "    y_pred = K.clip(y_pred, K.epsilon(), None)\n",
    "    return K.sum( K.abs( (y_true- y_pred) * (K.log(y_true / y_pred))), axis=-1)\n",
    "\n",
    "text_model.compile(loss='binary_crossentropy', optimizer='adam', metrics=[abs_KL_div])\n",
    "\n",
    "text_model.summary()\n",
    "\n",
    "# model.compile(\n",
    "#     loss='binary_crossentropy',\n",
    "#     optimizer='adam',\n",
    "#     metrics=[abs_KL_div],\n",
    "# )\n",
    "\n",
    "# model.summary()\n",
    "\n",
    "# for layer in model.layers:\n",
    "#     print(layer, layer.output_shape)\n"
   ]
  },
  {
   "cell_type": "code",
   "execution_count": 98,
   "metadata": {},
   "outputs": [
    {
     "name": "stdout",
     "output_type": "stream",
     "text": [
      "Train on 75466 samples, validate on 8386 samples\n",
      "Epoch 1/4\n",
      "75466/75466 [==============================] - 24s 315us/step - loss: 0.0178 - abs_KL_div: 35.7747 - val_loss: 0.0176 - val_abs_KL_div: 34.3409\n",
      "Epoch 2/4\n",
      "75466/75466 [==============================] - 24s 315us/step - loss: 0.0178 - abs_KL_div: 35.3732 - val_loss: 0.0176 - val_abs_KL_div: 33.7850\n"
     ]
    }
   ],
   "source": [
    "from sklearn.utils.class_weight import compute_sample_weight\n",
    "from keras.callbacks import EarlyStopping\n",
    "\n",
    "epochs = 4\n",
    "batch_size = 256\n",
    "\n",
    "# class_ratios = np.sum(y_train, axis=0) / y_train.shape[0]\n",
    "\n",
    "# sample_weights = compute_sample_weight('balanced', y_train)\n",
    "\n",
    "history = text_model.fit(\n",
    "    padded_text_train,\n",
    "    y_train,\n",
    "    epochs=epochs,\n",
    "    batch_size=batch_size,\n",
    "    validation_split=0.1,\n",
    "    callbacks=[\n",
    "        EarlyStopping(monitor='val_loss', patience=1, min_delta=0.001),\n",
    "    ],\n",
    ")"
   ]
  },
  {
   "cell_type": "code",
   "execution_count": 99,
   "metadata": {},
   "outputs": [],
   "source": [
    "# from sklearn.utils.class_weight import compute_sample_weight\n",
    "# from keras.callbacks import EarlyStopping\n",
    "\n",
    "# epochs = 4\n",
    "# batch_size = 256\n",
    "\n",
    "# # class_ratios = np.sum(y_train, axis=0) / y_train.shape[0]\n",
    "\n",
    "# sample_weights = compute_sample_weight('balanced', y_train)\n",
    "\n",
    "# history = model.fit(\n",
    "#     [padded_code_train, padded_text_train],\n",
    "#     y_train,\n",
    "#     epochs=epochs,\n",
    "#     batch_size=batch_size,\n",
    "#     validation_split=0.1,\n",
    "#     callbacks=[\n",
    "#         EarlyStopping(monitor='val_loss', patience=1, min_delta=0.001),\n",
    "#     ],\n",
    "#     sample_weight=sample_weights\n",
    "# )"
   ]
  },
  {
   "cell_type": "code",
   "execution_count": 100,
   "metadata": {},
   "outputs": [
    {
     "data": {
      "text/plain": [
       "1"
      ]
     },
     "execution_count": 100,
     "metadata": {},
     "output_type": "execute_result"
    }
   ],
   "source": [
    "y_train.max(axis=1).min()"
   ]
  },
  {
   "cell_type": "code",
   "execution_count": 104,
   "metadata": {},
   "outputs": [
    {
     "name": "stdout",
     "output_type": "stream",
     "text": [
      "9317/9317 [==============================] - 7s 774us/step\n",
      "Test set\n",
      "  Loss: 0.018\n",
      "  Accuracy: 33.903\n"
     ]
    }
   ],
   "source": [
    "accr = text_model.evaluate(padded_text_test, y_test)\n",
    "print('Test set\\n  Loss: {:0.3f}\\n  Accuracy: {:0.3f}'.format(accr[0],accr[1]))"
   ]
  },
  {
   "cell_type": "code",
   "execution_count": 106,
   "metadata": {},
   "outputs": [
    {
     "ename": "KeyError",
     "evalue": "'acc'",
     "output_type": "error",
     "traceback": [
      "\u001b[0;31m---------------------------------------------------------------------------\u001b[0m",
      "\u001b[0;31mKeyError\u001b[0m                                  Traceback (most recent call last)",
      "\u001b[0;32m<ipython-input-106-25527d33d4b8>\u001b[0m in \u001b[0;36m<module>\u001b[0;34m\u001b[0m\n\u001b[1;32m      4\u001b[0m \u001b[0;34m\u001b[0m\u001b[0m\n\u001b[1;32m      5\u001b[0m \u001b[0;31m# summarize history for accuracy\u001b[0m\u001b[0;34m\u001b[0m\u001b[0;34m\u001b[0m\u001b[0;34m\u001b[0m\u001b[0m\n\u001b[0;32m----> 6\u001b[0;31m \u001b[0mplt\u001b[0m\u001b[0;34m.\u001b[0m\u001b[0mplot\u001b[0m\u001b[0;34m(\u001b[0m\u001b[0mhistory\u001b[0m\u001b[0;34m.\u001b[0m\u001b[0mhistory\u001b[0m\u001b[0;34m[\u001b[0m\u001b[0;34m'acc'\u001b[0m\u001b[0;34m]\u001b[0m\u001b[0;34m)\u001b[0m\u001b[0;34m\u001b[0m\u001b[0;34m\u001b[0m\u001b[0m\n\u001b[0m\u001b[1;32m      7\u001b[0m \u001b[0mplt\u001b[0m\u001b[0;34m.\u001b[0m\u001b[0mplot\u001b[0m\u001b[0;34m(\u001b[0m\u001b[0mhistory\u001b[0m\u001b[0;34m.\u001b[0m\u001b[0mhistory\u001b[0m\u001b[0;34m[\u001b[0m\u001b[0;34m'val_acc'\u001b[0m\u001b[0;34m]\u001b[0m\u001b[0;34m)\u001b[0m\u001b[0;34m\u001b[0m\u001b[0;34m\u001b[0m\u001b[0m\n\u001b[1;32m      8\u001b[0m \u001b[0mplt\u001b[0m\u001b[0;34m.\u001b[0m\u001b[0mtitle\u001b[0m\u001b[0;34m(\u001b[0m\u001b[0;34m'model accuracy'\u001b[0m\u001b[0;34m)\u001b[0m\u001b[0;34m\u001b[0m\u001b[0;34m\u001b[0m\u001b[0m\n",
      "\u001b[0;31mKeyError\u001b[0m: 'acc'"
     ]
    }
   ],
   "source": [
    "%matplotlib inline\n",
    "\n",
    "import matplotlib.pyplot as plt\n",
    "\n",
    "# summarize history for accuracy\n",
    "plt.plot(history.history['acc'])\n",
    "plt.plot(history.history['val_acc'])\n",
    "plt.title('model accuracy')\n",
    "plt.ylabel('accuracy')\n",
    "plt.xlabel('epoch')\n",
    "plt.legend(['train', 'test'], loc='upper left')\n",
    "plt.show()\n",
    "\n",
    "# summarize history for loss\n",
    "plt.plot(history.history['loss'])\n",
    "plt.plot(history.history['val_loss'])\n",
    "plt.title('model loss')\n",
    "plt.ylabel('loss')\n",
    "plt.xlabel('epoch')\n",
    "plt.legend(['train', 'test'], loc='upper left')\n",
    "plt.show()"
   ]
  },
  {
   "cell_type": "code",
   "execution_count": null,
   "metadata": {},
   "outputs": [],
   "source": [
    "from sklearn.metrics import hamming_loss, jaccard_score\n",
    "\n",
    "import keras.backend as K\n",
    "import tensorflow as tf\n",
    "\n",
    "y_pred = model.predict([padded_code_test, padded_text_test])\n",
    "\n",
    "sess = tf.Session()\n",
    "with sess.as_default():\n",
    "    for cutoff in [0.0001, 0.001, 0.01, 0.1, 0.2, 0.4, 0.5, 0.6, 0.8]:\n",
    "        y_pred_bin = K.greater(y_pred, 0.01).eval()\n",
    "        print('Cutoff: {:,}'.format(cutoff))\n",
    "        print('Hamming loss: {:,}'.format(\n",
    "            hamming_loss(y_test, y_pred_bin)\n",
    "        ))\n",
    "        for j_type in ['micro', 'macro', 'weighted']:\n",
    "            print('Jaccard {} score: {:,}'.format(\n",
    "                j_type,\n",
    "                jaccard_score(y_test, y_pred_bin, average=j_type)\n",
    "            ))"
   ]
  },
  {
   "cell_type": "code",
   "execution_count": null,
   "metadata": {},
   "outputs": [],
   "source": [
    "y_pred[1]"
   ]
  },
  {
   "cell_type": "code",
   "execution_count": null,
   "metadata": {},
   "outputs": [],
   "source": []
  }
 ],
 "metadata": {
  "kernelspec": {
   "display_name": "Python 3",
   "language": "python",
   "name": "python3"
  },
  "language_info": {
   "codemirror_mode": {
    "name": "ipython",
    "version": 3
   },
   "file_extension": ".py",
   "mimetype": "text/x-python",
   "name": "python",
   "nbconvert_exporter": "python",
   "pygments_lexer": "ipython3",
   "version": "3.6.8"
  }
 },
 "nbformat": 4,
 "nbformat_minor": 2
}
